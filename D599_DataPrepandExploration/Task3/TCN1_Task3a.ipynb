{
 "cells": [
  {
   "cell_type": "code",
   "id": "initial_id",
   "metadata": {
    "collapsed": true,
    "ExecuteTime": {
     "end_time": "2024-12-29T18:10:14.390946Z",
     "start_time": "2024-12-29T18:10:14.388179Z"
    }
   },
   "source": [
    "import pandas as pd\n",
    "from sklearn.preprocessing import OrdinalEncoder, LabelEncoder\n",
    "from mlxtend.frequent_patterns import apriori, association_rules\n",
    "import warnings\n",
    "warnings.filterwarnings('ignore')"
   ],
   "outputs": [],
   "execution_count": 35
  },
  {
   "metadata": {
    "ExecuteTime": {
     "end_time": "2024-12-29T18:10:14.439499Z",
     "start_time": "2024-12-29T18:10:14.425238Z"
    }
   },
   "cell_type": "code",
   "source": "df = pd.read_csv('Megastore_Dataset_Task_3 3.csv')",
   "id": "3ce7d312460a0950",
   "outputs": [],
   "execution_count": 36
  },
  {
   "metadata": {
    "ExecuteTime": {
     "end_time": "2024-12-29T18:10:14.444953Z",
     "start_time": "2024-12-29T18:10:14.441502Z"
    }
   },
   "cell_type": "code",
   "source": [
    "# Select relevant columns for analysis\n",
    "selected_columns = ['OrderPriority', 'CustomerOrderSatisfaction', 'ProductName', 'Region']\n",
    "selected_data = df[selected_columns]"
   ],
   "id": "ddf6e1aff96f4a85",
   "outputs": [],
   "execution_count": 37
  },
  {
   "metadata": {
    "ExecuteTime": {
     "end_time": "2024-12-29T18:10:14.470055Z",
     "start_time": "2024-12-29T18:10:14.464980Z"
    }
   },
   "cell_type": "code",
   "source": [
    "# Ordinal Encoding for OrderPriority and CustomerOrderSatisfaction\n",
    "ordinal_encoder = OrdinalEncoder(categories=[['Low', 'Medium', 'High']])\n",
    "selected_data.loc[:, 'OrderPriority_Encoded'] = ordinal_encoder.fit_transform(selected_data[['OrderPriority']])"
   ],
   "id": "5877b42764cc2f73",
   "outputs": [],
   "execution_count": 38
  },
  {
   "metadata": {
    "ExecuteTime": {
     "end_time": "2024-12-29T18:10:14.494275Z",
     "start_time": "2024-12-29T18:10:14.489595Z"
    }
   },
   "cell_type": "code",
   "source": [
    "ordinal_encoder = OrdinalEncoder(categories=[['Dissatisfied', 'Very Dissatisfied', 'Prefer not to answer', 'Satisfied', 'Very Satisfied']])\n",
    "selected_data.loc[:, 'CustomerOrderSatisfaction_Encoded'] = ordinal_encoder.fit_transform(selected_data[['CustomerOrderSatisfaction']])"
   ],
   "id": "73c608f6d0090a3a",
   "outputs": [],
   "execution_count": 39
  },
  {
   "metadata": {
    "ExecuteTime": {
     "end_time": "2024-12-29T18:10:14.518679Z",
     "start_time": "2024-12-29T18:10:14.515101Z"
    }
   },
   "cell_type": "code",
   "source": [
    "# Label Encoding for 'Region'\n",
    "label_encoder = LabelEncoder()\n",
    "selected_data.loc[:, 'Region_Encoded'] = label_encoder.fit_transform(selected_data['Region'])"
   ],
   "id": "cb2c8d086007addd",
   "outputs": [],
   "execution_count": 40
  },
  {
   "metadata": {
    "ExecuteTime": {
     "end_time": "2024-12-29T18:10:14.546931Z",
     "start_time": "2024-12-29T18:10:14.539209Z"
    }
   },
   "cell_type": "code",
   "source": [
    "# One-Hot Encoding for 'ProductName'\n",
    "one_hot_encoded_products = pd.get_dummies(selected_data['ProductName'], prefix='Product')"
   ],
   "id": "bd13440d2f8a69d5",
   "outputs": [],
   "execution_count": 41
  },
  {
   "metadata": {
    "ExecuteTime": {
     "end_time": "2024-12-29T18:10:14.572815Z",
     "start_time": "2024-12-29T18:10:14.567481Z"
    }
   },
   "cell_type": "code",
   "source": [
    "# Combine the encoded columns with the original data\n",
    "encoded_data = pd.concat([selected_data, one_hot_encoded_products], axis=1)"
   ],
   "id": "387478558dea0b7a",
   "outputs": [],
   "execution_count": 42
  },
  {
   "metadata": {
    "ExecuteTime": {
     "end_time": "2024-12-29T18:10:15.839071Z",
     "start_time": "2024-12-29T18:10:14.593158Z"
    }
   },
   "cell_type": "code",
   "source": [
    "# Save the cleaned dataset to a CSV file\n",
    "encoded_data.to_csv('Cleaned_Megastore_Data.csv', index=False)"
   ],
   "id": "395c278f278e3f67",
   "outputs": [],
   "execution_count": 43
  },
  {
   "metadata": {
    "ExecuteTime": {
     "end_time": "2024-12-29T18:10:15.865454Z",
     "start_time": "2024-12-29T18:10:15.858723Z"
    }
   },
   "cell_type": "code",
   "source": [
    "# Group data by OrderID to create transactions\n",
    "transaction_data = df.groupby('OrderID')['ProductName'].apply(list)"
   ],
   "id": "e36dffafcfa69273",
   "outputs": [],
   "execution_count": 44
  },
  {
   "metadata": {
    "ExecuteTime": {
     "end_time": "2024-12-29T18:10:15.956247Z",
     "start_time": "2024-12-29T18:10:15.885249Z"
    }
   },
   "cell_type": "code",
   "source": [
    "# Convert transactions into a binary matrix format\n",
    "transactional_df = pd.get_dummies(transaction_data.apply(pd.Series).stack()).groupby(level=0).sum()"
   ],
   "id": "7c9e5522723144e0",
   "outputs": [],
   "execution_count": 45
  },
  {
   "metadata": {
    "ExecuteTime": {
     "end_time": "2024-12-29T18:10:16.095759Z",
     "start_time": "2024-12-29T18:10:15.975105Z"
    }
   },
   "cell_type": "code",
   "source": [
    "# Ensure binary encoding in the transactional data\n",
    "transactional_df = transactional_df.applymap(lambda x: 1 if x > 0 else 0)"
   ],
   "id": "7214dd584415e1bf",
   "outputs": [],
   "execution_count": 46
  },
  {
   "metadata": {
    "ExecuteTime": {
     "end_time": "2024-12-29T18:10:17.880434Z",
     "start_time": "2024-12-29T18:10:16.116162Z"
    }
   },
   "cell_type": "code",
   "source": [
    "# Run the Apriori algorithm\n",
    "frequent_itemsets = apriori(transactional_df, min_support=0.01, use_colnames=True)"
   ],
   "id": "497d06c9b8500bca",
   "outputs": [],
   "execution_count": 47
  },
  {
   "metadata": {
    "ExecuteTime": {
     "end_time": "2024-12-29T18:10:18.301285Z",
     "start_time": "2024-12-29T18:10:17.905113Z"
    }
   },
   "cell_type": "code",
   "source": [
    "# Generate association rules from the frequent itemsets\n",
    "rules = association_rules(frequent_itemsets, metric=\"lift\", min_threshold=1.0, num_itemsets=len(frequent_itemsets))"
   ],
   "id": "90f2273012e9fae5",
   "outputs": [],
   "execution_count": 48
  },
  {
   "metadata": {
    "ExecuteTime": {
     "end_time": "2024-12-29T18:10:18.330686Z",
     "start_time": "2024-12-29T18:10:18.321376Z"
    }
   },
   "cell_type": "code",
   "source": [
    "# Display the association rules\n",
    "print(\"Association Rules:\\n\", rules[['antecedents', 'consequents', 'support', 'confidence', 'lift']].head())"
   ],
   "id": "f1ffa4ed7fdf6e37",
   "outputs": [
    {
     "name": "stdout",
     "output_type": "stream",
     "text": [
      "Association Rules:\n",
      "                          antecedents                        consequents  \\\n",
      "0               ( DOLLY GIRL BEAKER)  (CHARLOTTE BAG DOLLY GIRL DESIGN)   \n",
      "1  (CHARLOTTE BAG DOLLY GIRL DESIGN)               ( DOLLY GIRL BEAKER)   \n",
      "2               ( DOLLY GIRL BEAKER)        (DOLLY GIRL CHILDRENS BOWL)   \n",
      "3        (DOLLY GIRL CHILDRENS BOWL)               ( DOLLY GIRL BEAKER)   \n",
      "4               ( DOLLY GIRL BEAKER)         (DOLLY GIRL CHILDRENS CUP)   \n",
      "\n",
      "    support  confidence       lift  \n",
      "0  0.011338    0.555556   9.423077  \n",
      "1  0.011338    0.192308   9.423077  \n",
      "2  0.015873    0.777778  19.055556  \n",
      "3  0.015873    0.388889  19.055556  \n",
      "4  0.013605    0.666667  18.375000  \n"
     ]
    }
   ],
   "execution_count": 49
  },
  {
   "metadata": {
    "ExecuteTime": {
     "end_time": "2024-12-29T18:10:18.430569Z",
     "start_time": "2024-12-29T18:10:18.392171Z"
    }
   },
   "cell_type": "code",
   "source": [
    "# Extract the top 3 rules with the highest lift\n",
    "top_rules = rules.sort_values(by='lift', ascending=False).head(3)"
   ],
   "id": "ab5fb29f1c235742",
   "outputs": [],
   "execution_count": 50
  },
  {
   "metadata": {
    "ExecuteTime": {
     "end_time": "2024-12-29T18:10:18.455083Z",
     "start_time": "2024-12-29T18:10:18.450509Z"
    }
   },
   "cell_type": "code",
   "source": "print(\"Top 3 Rules:\\n\", top_rules[['antecedents', 'consequents', 'support', 'confidence', 'lift']])",
   "id": "71d58efe53ef5095",
   "outputs": [
    {
     "name": "stdout",
     "output_type": "stream",
     "text": [
      "Top 3 Rules:\n",
      "                                              antecedents  \\\n",
      "75153  (CHILDRENS CUTLERY DOLLY GIRL , ALARM CLOCK BA...   \n",
      "82089  (ALARM CLOCK BAKELIKE RED , SET6 RED SPOTTY PA...   \n",
      "84835  (ALARM CLOCK BAKELIKE RED , SET6 RED SPOTTY PA...   \n",
      "\n",
      "                                             consequents   support  \\\n",
      "75153  (ALARM CLOCK BAKELIKE RED , ROUND SNACK BOXES ...  0.011338   \n",
      "82089  (ALARM CLOCK BAKELIKE PINK, ROUND SNACK BOXES ...  0.011338   \n",
      "84835  (ROUND SNACK BOXES SET OF4 WOODLAND , ALARM CL...  0.011338   \n",
      "\n",
      "       confidence  lift  \n",
      "75153         1.0  88.2  \n",
      "82089         1.0  88.2  \n",
      "84835         1.0  88.2  \n"
     ]
    }
   ],
   "execution_count": 51
  }
 ],
 "metadata": {
  "kernelspec": {
   "display_name": "Python 3",
   "language": "python",
   "name": "python3"
  },
  "language_info": {
   "codemirror_mode": {
    "name": "ipython",
    "version": 2
   },
   "file_extension": ".py",
   "mimetype": "text/x-python",
   "name": "python",
   "nbconvert_exporter": "python",
   "pygments_lexer": "ipython2",
   "version": "2.7.6"
  }
 },
 "nbformat": 4,
 "nbformat_minor": 5
}
