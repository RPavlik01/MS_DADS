{
 "cells": [
  {
   "cell_type": "code",
   "id": "initial_id",
   "metadata": {
    "collapsed": true,
    "ExecuteTime": {
     "end_time": "2024-11-10T22:53:25.376374Z",
     "start_time": "2024-11-10T22:53:25.374177Z"
    }
   },
   "source": [
    "#Import Libraries\n",
    "import pandas as pd"
   ],
   "outputs": [],
   "execution_count": 2
  },
  {
   "metadata": {
    "ExecuteTime": {
     "end_time": "2024-11-10T22:56:24.934130Z",
     "start_time": "2024-11-10T22:56:24.931881Z"
    }
   },
   "cell_type": "code",
   "source": "import numpy as np",
   "id": "5d2d913053eb89f9",
   "outputs": [],
   "execution_count": 36
  },
  {
   "metadata": {
    "ExecuteTime": {
     "end_time": "2024-11-10T22:56:39.714770Z",
     "start_time": "2024-11-10T22:56:37.846591Z"
    }
   },
   "cell_type": "code",
   "source": [
    "#Read the dataset using Pandas\n",
    "df = pd.read_excel('EmpTurnoverDS.xlsx')"
   ],
   "id": "c1bf624e3cc0c001",
   "outputs": [],
   "execution_count": 37
  },
  {
   "metadata": {
    "ExecuteTime": {
     "end_time": "2024-11-10T22:56:48.296583Z",
     "start_time": "2024-11-10T22:56:48.292619Z"
    }
   },
   "cell_type": "code",
   "source": [
    "#Use Shape to see the number of rows and columns \n",
    "df.shape"
   ],
   "id": "72fff147b0aff363",
   "outputs": [
    {
     "data": {
      "text/plain": [
       "(10322, 35)"
      ]
     },
     "execution_count": 38,
     "metadata": {},
     "output_type": "execute_result"
    }
   ],
   "execution_count": 38
  },
  {
   "metadata": {
    "ExecuteTime": {
     "end_time": "2024-11-10T22:56:57.436511Z",
     "start_time": "2024-11-10T22:56:57.426531Z"
    }
   },
   "cell_type": "code",
   "source": [
    "#Use Head to get a sense of the data in each column \n",
    "df.head()"
   ],
   "id": "43dd0a67f8f92c55",
   "outputs": [
    {
     "data": {
      "text/plain": [
       "    Age Turnover     BusinessTravel  DailyRate Department  DistanceFromHome  \\\n",
       "0  33.0      Yes         Non-Travel        241   Hardware                16   \n",
       "1  35.0      Yes         Non-Travel        679    Support                 7   \n",
       "2  27.0      Yes  Travel_Frequently        359   Hardware                50   \n",
       "3  44.0       No      Travel_Rarely       1133   Software                12   \n",
       "4  56.0       No      Travel_Rarely        118   Software                43   \n",
       "\n",
       "   Education    EducationField  EmployeeCount  EmployeeNumber  ...  \\\n",
       "0          3  Technical Degree              1            3505  ...   \n",
       "1          2     Life Sciences              1            1129  ...   \n",
       "2          1     Life Sciences              1            6305  ...   \n",
       "3          5     Life Sciences              1            4595  ...   \n",
       "4          2   Human Resources              1            7203  ...   \n",
       "\n",
       "   RelationshipSatisfaction StandardHours  StockOptionLevel  \\\n",
       "0                         1            80                 4   \n",
       "1                         1            80                 1   \n",
       "2                         4            80                 4   \n",
       "3                         4            80                 3   \n",
       "4                         2            80                 1   \n",
       "\n",
       "   TotalWorkingYears  TrainingTimesLastYear WorkLifeBalance  YearsAtCompany  \\\n",
       "0               35.0                    4.0               4              13   \n",
       "1                5.0                    1.0               1               4   \n",
       "2               10.0                    4.0               2               4   \n",
       "3               19.0                    4.0               1              14   \n",
       "4                3.0                    3.0               4               1   \n",
       "\n",
       "  YearsInCurrentRole  YearsSinceLastPromotion  YearsWithCurrManager  \n",
       "0                  2                      8.0                    11  \n",
       "1                  3                      3.0                     4  \n",
       "2                  2                      4.0                     2  \n",
       "3                  7                     12.0                     2  \n",
       "4                  1                      1.0                     1  \n",
       "\n",
       "[5 rows x 35 columns]"
      ],
      "text/html": [
       "<div>\n",
       "<style scoped>\n",
       "    .dataframe tbody tr th:only-of-type {\n",
       "        vertical-align: middle;\n",
       "    }\n",
       "\n",
       "    .dataframe tbody tr th {\n",
       "        vertical-align: top;\n",
       "    }\n",
       "\n",
       "    .dataframe thead th {\n",
       "        text-align: right;\n",
       "    }\n",
       "</style>\n",
       "<table border=\"1\" class=\"dataframe\">\n",
       "  <thead>\n",
       "    <tr style=\"text-align: right;\">\n",
       "      <th></th>\n",
       "      <th>Age</th>\n",
       "      <th>Turnover</th>\n",
       "      <th>BusinessTravel</th>\n",
       "      <th>DailyRate</th>\n",
       "      <th>Department</th>\n",
       "      <th>DistanceFromHome</th>\n",
       "      <th>Education</th>\n",
       "      <th>EducationField</th>\n",
       "      <th>EmployeeCount</th>\n",
       "      <th>EmployeeNumber</th>\n",
       "      <th>...</th>\n",
       "      <th>RelationshipSatisfaction</th>\n",
       "      <th>StandardHours</th>\n",
       "      <th>StockOptionLevel</th>\n",
       "      <th>TotalWorkingYears</th>\n",
       "      <th>TrainingTimesLastYear</th>\n",
       "      <th>WorkLifeBalance</th>\n",
       "      <th>YearsAtCompany</th>\n",
       "      <th>YearsInCurrentRole</th>\n",
       "      <th>YearsSinceLastPromotion</th>\n",
       "      <th>YearsWithCurrManager</th>\n",
       "    </tr>\n",
       "  </thead>\n",
       "  <tbody>\n",
       "    <tr>\n",
       "      <th>0</th>\n",
       "      <td>33.0</td>\n",
       "      <td>Yes</td>\n",
       "      <td>Non-Travel</td>\n",
       "      <td>241</td>\n",
       "      <td>Hardware</td>\n",
       "      <td>16</td>\n",
       "      <td>3</td>\n",
       "      <td>Technical Degree</td>\n",
       "      <td>1</td>\n",
       "      <td>3505</td>\n",
       "      <td>...</td>\n",
       "      <td>1</td>\n",
       "      <td>80</td>\n",
       "      <td>4</td>\n",
       "      <td>35.0</td>\n",
       "      <td>4.0</td>\n",
       "      <td>4</td>\n",
       "      <td>13</td>\n",
       "      <td>2</td>\n",
       "      <td>8.0</td>\n",
       "      <td>11</td>\n",
       "    </tr>\n",
       "    <tr>\n",
       "      <th>1</th>\n",
       "      <td>35.0</td>\n",
       "      <td>Yes</td>\n",
       "      <td>Non-Travel</td>\n",
       "      <td>679</td>\n",
       "      <td>Support</td>\n",
       "      <td>7</td>\n",
       "      <td>2</td>\n",
       "      <td>Life Sciences</td>\n",
       "      <td>1</td>\n",
       "      <td>1129</td>\n",
       "      <td>...</td>\n",
       "      <td>1</td>\n",
       "      <td>80</td>\n",
       "      <td>1</td>\n",
       "      <td>5.0</td>\n",
       "      <td>1.0</td>\n",
       "      <td>1</td>\n",
       "      <td>4</td>\n",
       "      <td>3</td>\n",
       "      <td>3.0</td>\n",
       "      <td>4</td>\n",
       "    </tr>\n",
       "    <tr>\n",
       "      <th>2</th>\n",
       "      <td>27.0</td>\n",
       "      <td>Yes</td>\n",
       "      <td>Travel_Frequently</td>\n",
       "      <td>359</td>\n",
       "      <td>Hardware</td>\n",
       "      <td>50</td>\n",
       "      <td>1</td>\n",
       "      <td>Life Sciences</td>\n",
       "      <td>1</td>\n",
       "      <td>6305</td>\n",
       "      <td>...</td>\n",
       "      <td>4</td>\n",
       "      <td>80</td>\n",
       "      <td>4</td>\n",
       "      <td>10.0</td>\n",
       "      <td>4.0</td>\n",
       "      <td>2</td>\n",
       "      <td>4</td>\n",
       "      <td>2</td>\n",
       "      <td>4.0</td>\n",
       "      <td>2</td>\n",
       "    </tr>\n",
       "    <tr>\n",
       "      <th>3</th>\n",
       "      <td>44.0</td>\n",
       "      <td>No</td>\n",
       "      <td>Travel_Rarely</td>\n",
       "      <td>1133</td>\n",
       "      <td>Software</td>\n",
       "      <td>12</td>\n",
       "      <td>5</td>\n",
       "      <td>Life Sciences</td>\n",
       "      <td>1</td>\n",
       "      <td>4595</td>\n",
       "      <td>...</td>\n",
       "      <td>4</td>\n",
       "      <td>80</td>\n",
       "      <td>3</td>\n",
       "      <td>19.0</td>\n",
       "      <td>4.0</td>\n",
       "      <td>1</td>\n",
       "      <td>14</td>\n",
       "      <td>7</td>\n",
       "      <td>12.0</td>\n",
       "      <td>2</td>\n",
       "    </tr>\n",
       "    <tr>\n",
       "      <th>4</th>\n",
       "      <td>56.0</td>\n",
       "      <td>No</td>\n",
       "      <td>Travel_Rarely</td>\n",
       "      <td>118</td>\n",
       "      <td>Software</td>\n",
       "      <td>43</td>\n",
       "      <td>2</td>\n",
       "      <td>Human Resources</td>\n",
       "      <td>1</td>\n",
       "      <td>7203</td>\n",
       "      <td>...</td>\n",
       "      <td>2</td>\n",
       "      <td>80</td>\n",
       "      <td>1</td>\n",
       "      <td>3.0</td>\n",
       "      <td>3.0</td>\n",
       "      <td>4</td>\n",
       "      <td>1</td>\n",
       "      <td>1</td>\n",
       "      <td>1.0</td>\n",
       "      <td>1</td>\n",
       "    </tr>\n",
       "  </tbody>\n",
       "</table>\n",
       "<p>5 rows × 35 columns</p>\n",
       "</div>"
      ]
     },
     "execution_count": 39,
     "metadata": {},
     "output_type": "execute_result"
    }
   ],
   "execution_count": 39
  },
  {
   "metadata": {
    "ExecuteTime": {
     "end_time": "2024-11-10T22:57:12.997426Z",
     "start_time": "2024-11-10T22:57:12.989484Z"
    }
   },
   "cell_type": "code",
   "source": [
    "#View a quick summary of the dataset using Info\n",
    "df.info"
   ],
   "id": "7408d6bd51fcf215",
   "outputs": [
    {
     "data": {
      "text/plain": [
       "<bound method DataFrame.info of         Age Turnover     BusinessTravel  DailyRate       Department  \\\n",
       "0      33.0      Yes         Non-Travel        241         Hardware   \n",
       "1      35.0      Yes         Non-Travel        679          Support   \n",
       "2      27.0      Yes  Travel_Frequently        359         Hardware   \n",
       "3      44.0       No      Travel_Rarely       1133         Software   \n",
       "4      56.0       No      Travel_Rarely        118         Software   \n",
       "...     ...      ...                ...        ...              ...   \n",
       "10317  23.0       No      Travel_Rarely       1373            Sales   \n",
       "10318  47.0      Yes         Non-Travel       1250  Human Resources   \n",
       "10319  32.0       No         Non-Travel        145         Hardware   \n",
       "10320  47.0      Yes      Travel_Rarely        486         Hardware   \n",
       "10321  40.0      Yes  Travel_Frequently       1213         Hardware   \n",
       "\n",
       "       DistanceFromHome  Education    EducationField  EmployeeCount  \\\n",
       "0                    16          3  Technical Degree              1   \n",
       "1                     7          2     Life Sciences              1   \n",
       "2                    50          1     Life Sciences              1   \n",
       "3                    12          5     Life Sciences              1   \n",
       "4                    43          2   Human Resources              1   \n",
       "...                 ...        ...               ...            ...   \n",
       "10317                 2          3   Human Resources              1   \n",
       "10318                27          3           Medical              1   \n",
       "10319                49          1             Other              1   \n",
       "10320                44          5             Other              1   \n",
       "10321                33          1  Technical Degree              1   \n",
       "\n",
       "       EmployeeNumber  ...  RelationshipSatisfaction StandardHours  \\\n",
       "0                3505  ...                         1            80   \n",
       "1                1129  ...                         1            80   \n",
       "2                6305  ...                         4            80   \n",
       "3                4595  ...                         4            80   \n",
       "4                7203  ...                         2            80   \n",
       "...               ...  ...                       ...           ...   \n",
       "10317            9552  ...                         1            80   \n",
       "10318            4546  ...                         4            80   \n",
       "10319            9885  ...                         3            80   \n",
       "10320            4636  ...                         3            80   \n",
       "10321            5122  ...                         3            80   \n",
       "\n",
       "       StockOptionLevel  TotalWorkingYears  TrainingTimesLastYear  \\\n",
       "0                     4               35.0                    4.0   \n",
       "1                     1                5.0                    1.0   \n",
       "2                     4               10.0                    4.0   \n",
       "3                     3               19.0                    4.0   \n",
       "4                     1                3.0                    3.0   \n",
       "...                 ...                ...                    ...   \n",
       "10317                 4               26.0                    4.0   \n",
       "10318                 1               19.0                    6.0   \n",
       "10319                 4               22.0                    5.0   \n",
       "10320                 3               12.0                    6.0   \n",
       "10321                 4               29.0                    3.0   \n",
       "\n",
       "      WorkLifeBalance  YearsAtCompany YearsInCurrentRole  \\\n",
       "0                   4              13                  2   \n",
       "1                   1               4                  3   \n",
       "2                   2               4                  2   \n",
       "3                   1              14                  7   \n",
       "4                   4               1                  1   \n",
       "...               ...             ...                ...   \n",
       "10317               3               1                  1   \n",
       "10318               2              17                  1   \n",
       "10319               4              17                 11   \n",
       "10320               4               7                  5   \n",
       "10321               4              29                 27   \n",
       "\n",
       "       YearsSinceLastPromotion  YearsWithCurrManager  \n",
       "0                          8.0                    11  \n",
       "1                          3.0                     4  \n",
       "2                          4.0                     2  \n",
       "3                         12.0                     2  \n",
       "4                          1.0                     1  \n",
       "...                        ...                   ...  \n",
       "10317                      1.0                     1  \n",
       "10318                      8.0                    11  \n",
       "10319                     13.0                     2  \n",
       "10320                      5.0                     1  \n",
       "10321                     27.0                    18  \n",
       "\n",
       "[10322 rows x 35 columns]>"
      ]
     },
     "execution_count": 40,
     "metadata": {},
     "output_type": "execute_result"
    }
   ],
   "execution_count": 40
  },
  {
   "metadata": {
    "ExecuteTime": {
     "end_time": "2024-11-10T22:57:34.998131Z",
     "start_time": "2024-11-10T22:57:34.993563Z"
    }
   },
   "cell_type": "code",
   "source": [
    "#Get each Column Datatype using .dtypes\n",
    "df.dtypes"
   ],
   "id": "a28e0a4b5237316d",
   "outputs": [
    {
     "data": {
      "text/plain": [
       "Age                         float64\n",
       "Turnover                     object\n",
       "BusinessTravel               object\n",
       "DailyRate                     int64\n",
       "Department                   object\n",
       "DistanceFromHome              int64\n",
       "Education                     int64\n",
       "EducationField               object\n",
       "EmployeeCount                 int64\n",
       "EmployeeNumber                int64\n",
       "EnvironmentSatisfaction       int64\n",
       "Gender                       object\n",
       "HourlyRate                    int64\n",
       "JobInvolvement                int64\n",
       "JobLevel                      int64\n",
       "JobRole                      object\n",
       "JobSatisfaction               int64\n",
       "MaritalStatus                object\n",
       "MonthlyIncome               float64\n",
       "MonthlyRate                 float64\n",
       "NumCompaniesWorked          float64\n",
       "Over18                       object\n",
       "OverTime                     object\n",
       "PercentSalaryHike             int64\n",
       "PerformanceRating             int64\n",
       "RelationshipSatisfaction      int64\n",
       "StandardHours                 int64\n",
       "StockOptionLevel              int64\n",
       "TotalWorkingYears           float64\n",
       "TrainingTimesLastYear       float64\n",
       "WorkLifeBalance               int64\n",
       "YearsAtCompany                int64\n",
       "YearsInCurrentRole            int64\n",
       "YearsSinceLastPromotion     float64\n",
       "YearsWithCurrManager         object\n",
       "dtype: object"
      ]
     },
     "execution_count": 41,
     "metadata": {},
     "output_type": "execute_result"
    }
   ],
   "execution_count": 41
  },
  {
   "metadata": {
    "ExecuteTime": {
     "end_time": "2024-11-10T22:57:48.225445Z",
     "start_time": "2024-11-10T22:57:48.212524Z"
    }
   },
   "cell_type": "code",
   "source": [
    "#Count the Duplicates in the Dataset\n",
    "df.duplicated().sum()"
   ],
   "id": "fb2c60fb874e38a6",
   "outputs": [
    {
     "data": {
      "text/plain": [
       "np.int64(298)"
      ]
     },
     "execution_count": 42,
     "metadata": {},
     "output_type": "execute_result"
    }
   ],
   "execution_count": 42
  },
  {
   "metadata": {
    "ExecuteTime": {
     "end_time": "2024-11-10T22:57:59.561322Z",
     "start_time": "2024-11-10T22:57:59.544125Z"
    }
   },
   "cell_type": "code",
   "source": [
    "#See all rows that are duplicates\n",
    "df[df.duplicated()]"
   ],
   "id": "547da61797ba6aec",
   "outputs": [
    {
     "data": {
      "text/plain": [
       "        Age Turnover BusinessTravel  DailyRate              Department  \\\n",
       "712    22.0       No  Travel_Rarely        611                   Sales   \n",
       "985    42.0       No     Non-Travel        568                   Sales   \n",
       "1022   28.0      Yes  Travel_Rarely        406  Research & Development   \n",
       "1033   29.0      Yes     Non-Travel        492                 Support   \n",
       "1212   41.0      Yes  Travel_Rarely        711                Hardware   \n",
       "...     ...      ...            ...        ...                     ...   \n",
       "10272  43.0       No     Non-Travel        567                 Support   \n",
       "10275  47.0      Yes     Non-Travel       1034                Hardware   \n",
       "10290  27.0       No     Non-Travel        202  Research & Development   \n",
       "10291  27.0       No  Travel_Rarely        649                Hardware   \n",
       "10319  32.0       No     Non-Travel        145                Hardware   \n",
       "\n",
       "       DistanceFromHome  Education    EducationField  EmployeeCount  \\\n",
       "712                  33          2             Other              1   \n",
       "985                  50          1     Life Sciences              1   \n",
       "1022                 38          1  Technical Degree              1   \n",
       "1033                 49          5         Marketing              1   \n",
       "1212                 49          5   Human Resources              1   \n",
       "...                 ...        ...               ...            ...   \n",
       "10272                43          5   Human Resources              1   \n",
       "10275                 2          4     Life Sciences              1   \n",
       "10290                16          5         Marketing              1   \n",
       "10291                44          4   Human Resources              1   \n",
       "10319                49          1             Other              1   \n",
       "\n",
       "       EmployeeNumber  ...  RelationshipSatisfaction StandardHours  \\\n",
       "712               416  ...                         3            80   \n",
       "985              9921  ...                         3            80   \n",
       "1022             5528  ...                         2            80   \n",
       "1033             5587  ...                         1            80   \n",
       "1212             9892  ...                         2            80   \n",
       "...               ...  ...                       ...           ...   \n",
       "10272            9851  ...                         2            80   \n",
       "10275            9951  ...                         1            80   \n",
       "10290            9920  ...                         4            80   \n",
       "10291            9908  ...                         3            80   \n",
       "10319            9885  ...                         3            80   \n",
       "\n",
       "       StockOptionLevel  TotalWorkingYears  TrainingTimesLastYear  \\\n",
       "712                   4                5.0                    5.0   \n",
       "985                   1               10.0                    3.0   \n",
       "1022                  2               38.0                    3.0   \n",
       "1033                  4               13.0                    4.0   \n",
       "1212                  3                9.0                    1.0   \n",
       "...                 ...                ...                    ...   \n",
       "10272                 3                1.0                    1.0   \n",
       "10275                 4                3.0                    4.0   \n",
       "10290                 2               23.0                    1.0   \n",
       "10291                 1               20.0                    6.0   \n",
       "10319                 4               22.0                    5.0   \n",
       "\n",
       "      WorkLifeBalance  YearsAtCompany YearsInCurrentRole  \\\n",
       "712                 2               5                  2   \n",
       "985                 3               4                  2   \n",
       "1022                3              23                 19   \n",
       "1033                1               9                  6   \n",
       "1212                3               7                  4   \n",
       "...               ...             ...                ...   \n",
       "10272               1               1                  1   \n",
       "10275               1               1                  1   \n",
       "10290               3               5                  5   \n",
       "10291               2               3                  3   \n",
       "10319               4              17                 11   \n",
       "\n",
       "       YearsSinceLastPromotion  YearsWithCurrManager  \n",
       "712                        5.0                     3  \n",
       "985                        1.0                     3  \n",
       "1022                      11.0                     7  \n",
       "1033                       9.0                     7  \n",
       "1212                       5.0                     2  \n",
       "...                        ...                   ...  \n",
       "10272                      1.0                     1  \n",
       "10275                      1.0                     1  \n",
       "10290                      5.0                     4  \n",
       "10291                      1.0                     3  \n",
       "10319                     13.0                     2  \n",
       "\n",
       "[298 rows x 35 columns]"
      ],
      "text/html": [
       "<div>\n",
       "<style scoped>\n",
       "    .dataframe tbody tr th:only-of-type {\n",
       "        vertical-align: middle;\n",
       "    }\n",
       "\n",
       "    .dataframe tbody tr th {\n",
       "        vertical-align: top;\n",
       "    }\n",
       "\n",
       "    .dataframe thead th {\n",
       "        text-align: right;\n",
       "    }\n",
       "</style>\n",
       "<table border=\"1\" class=\"dataframe\">\n",
       "  <thead>\n",
       "    <tr style=\"text-align: right;\">\n",
       "      <th></th>\n",
       "      <th>Age</th>\n",
       "      <th>Turnover</th>\n",
       "      <th>BusinessTravel</th>\n",
       "      <th>DailyRate</th>\n",
       "      <th>Department</th>\n",
       "      <th>DistanceFromHome</th>\n",
       "      <th>Education</th>\n",
       "      <th>EducationField</th>\n",
       "      <th>EmployeeCount</th>\n",
       "      <th>EmployeeNumber</th>\n",
       "      <th>...</th>\n",
       "      <th>RelationshipSatisfaction</th>\n",
       "      <th>StandardHours</th>\n",
       "      <th>StockOptionLevel</th>\n",
       "      <th>TotalWorkingYears</th>\n",
       "      <th>TrainingTimesLastYear</th>\n",
       "      <th>WorkLifeBalance</th>\n",
       "      <th>YearsAtCompany</th>\n",
       "      <th>YearsInCurrentRole</th>\n",
       "      <th>YearsSinceLastPromotion</th>\n",
       "      <th>YearsWithCurrManager</th>\n",
       "    </tr>\n",
       "  </thead>\n",
       "  <tbody>\n",
       "    <tr>\n",
       "      <th>712</th>\n",
       "      <td>22.0</td>\n",
       "      <td>No</td>\n",
       "      <td>Travel_Rarely</td>\n",
       "      <td>611</td>\n",
       "      <td>Sales</td>\n",
       "      <td>33</td>\n",
       "      <td>2</td>\n",
       "      <td>Other</td>\n",
       "      <td>1</td>\n",
       "      <td>416</td>\n",
       "      <td>...</td>\n",
       "      <td>3</td>\n",
       "      <td>80</td>\n",
       "      <td>4</td>\n",
       "      <td>5.0</td>\n",
       "      <td>5.0</td>\n",
       "      <td>2</td>\n",
       "      <td>5</td>\n",
       "      <td>2</td>\n",
       "      <td>5.0</td>\n",
       "      <td>3</td>\n",
       "    </tr>\n",
       "    <tr>\n",
       "      <th>985</th>\n",
       "      <td>42.0</td>\n",
       "      <td>No</td>\n",
       "      <td>Non-Travel</td>\n",
       "      <td>568</td>\n",
       "      <td>Sales</td>\n",
       "      <td>50</td>\n",
       "      <td>1</td>\n",
       "      <td>Life Sciences</td>\n",
       "      <td>1</td>\n",
       "      <td>9921</td>\n",
       "      <td>...</td>\n",
       "      <td>3</td>\n",
       "      <td>80</td>\n",
       "      <td>1</td>\n",
       "      <td>10.0</td>\n",
       "      <td>3.0</td>\n",
       "      <td>3</td>\n",
       "      <td>4</td>\n",
       "      <td>2</td>\n",
       "      <td>1.0</td>\n",
       "      <td>3</td>\n",
       "    </tr>\n",
       "    <tr>\n",
       "      <th>1022</th>\n",
       "      <td>28.0</td>\n",
       "      <td>Yes</td>\n",
       "      <td>Travel_Rarely</td>\n",
       "      <td>406</td>\n",
       "      <td>Research &amp; Development</td>\n",
       "      <td>38</td>\n",
       "      <td>1</td>\n",
       "      <td>Technical Degree</td>\n",
       "      <td>1</td>\n",
       "      <td>5528</td>\n",
       "      <td>...</td>\n",
       "      <td>2</td>\n",
       "      <td>80</td>\n",
       "      <td>2</td>\n",
       "      <td>38.0</td>\n",
       "      <td>3.0</td>\n",
       "      <td>3</td>\n",
       "      <td>23</td>\n",
       "      <td>19</td>\n",
       "      <td>11.0</td>\n",
       "      <td>7</td>\n",
       "    </tr>\n",
       "    <tr>\n",
       "      <th>1033</th>\n",
       "      <td>29.0</td>\n",
       "      <td>Yes</td>\n",
       "      <td>Non-Travel</td>\n",
       "      <td>492</td>\n",
       "      <td>Support</td>\n",
       "      <td>49</td>\n",
       "      <td>5</td>\n",
       "      <td>Marketing</td>\n",
       "      <td>1</td>\n",
       "      <td>5587</td>\n",
       "      <td>...</td>\n",
       "      <td>1</td>\n",
       "      <td>80</td>\n",
       "      <td>4</td>\n",
       "      <td>13.0</td>\n",
       "      <td>4.0</td>\n",
       "      <td>1</td>\n",
       "      <td>9</td>\n",
       "      <td>6</td>\n",
       "      <td>9.0</td>\n",
       "      <td>7</td>\n",
       "    </tr>\n",
       "    <tr>\n",
       "      <th>1212</th>\n",
       "      <td>41.0</td>\n",
       "      <td>Yes</td>\n",
       "      <td>Travel_Rarely</td>\n",
       "      <td>711</td>\n",
       "      <td>Hardware</td>\n",
       "      <td>49</td>\n",
       "      <td>5</td>\n",
       "      <td>Human Resources</td>\n",
       "      <td>1</td>\n",
       "      <td>9892</td>\n",
       "      <td>...</td>\n",
       "      <td>2</td>\n",
       "      <td>80</td>\n",
       "      <td>3</td>\n",
       "      <td>9.0</td>\n",
       "      <td>1.0</td>\n",
       "      <td>3</td>\n",
       "      <td>7</td>\n",
       "      <td>4</td>\n",
       "      <td>5.0</td>\n",
       "      <td>2</td>\n",
       "    </tr>\n",
       "    <tr>\n",
       "      <th>...</th>\n",
       "      <td>...</td>\n",
       "      <td>...</td>\n",
       "      <td>...</td>\n",
       "      <td>...</td>\n",
       "      <td>...</td>\n",
       "      <td>...</td>\n",
       "      <td>...</td>\n",
       "      <td>...</td>\n",
       "      <td>...</td>\n",
       "      <td>...</td>\n",
       "      <td>...</td>\n",
       "      <td>...</td>\n",
       "      <td>...</td>\n",
       "      <td>...</td>\n",
       "      <td>...</td>\n",
       "      <td>...</td>\n",
       "      <td>...</td>\n",
       "      <td>...</td>\n",
       "      <td>...</td>\n",
       "      <td>...</td>\n",
       "      <td>...</td>\n",
       "    </tr>\n",
       "    <tr>\n",
       "      <th>10272</th>\n",
       "      <td>43.0</td>\n",
       "      <td>No</td>\n",
       "      <td>Non-Travel</td>\n",
       "      <td>567</td>\n",
       "      <td>Support</td>\n",
       "      <td>43</td>\n",
       "      <td>5</td>\n",
       "      <td>Human Resources</td>\n",
       "      <td>1</td>\n",
       "      <td>9851</td>\n",
       "      <td>...</td>\n",
       "      <td>2</td>\n",
       "      <td>80</td>\n",
       "      <td>3</td>\n",
       "      <td>1.0</td>\n",
       "      <td>1.0</td>\n",
       "      <td>1</td>\n",
       "      <td>1</td>\n",
       "      <td>1</td>\n",
       "      <td>1.0</td>\n",
       "      <td>1</td>\n",
       "    </tr>\n",
       "    <tr>\n",
       "      <th>10275</th>\n",
       "      <td>47.0</td>\n",
       "      <td>Yes</td>\n",
       "      <td>Non-Travel</td>\n",
       "      <td>1034</td>\n",
       "      <td>Hardware</td>\n",
       "      <td>2</td>\n",
       "      <td>4</td>\n",
       "      <td>Life Sciences</td>\n",
       "      <td>1</td>\n",
       "      <td>9951</td>\n",
       "      <td>...</td>\n",
       "      <td>1</td>\n",
       "      <td>80</td>\n",
       "      <td>4</td>\n",
       "      <td>3.0</td>\n",
       "      <td>4.0</td>\n",
       "      <td>1</td>\n",
       "      <td>1</td>\n",
       "      <td>1</td>\n",
       "      <td>1.0</td>\n",
       "      <td>1</td>\n",
       "    </tr>\n",
       "    <tr>\n",
       "      <th>10290</th>\n",
       "      <td>27.0</td>\n",
       "      <td>No</td>\n",
       "      <td>Non-Travel</td>\n",
       "      <td>202</td>\n",
       "      <td>Research &amp; Development</td>\n",
       "      <td>16</td>\n",
       "      <td>5</td>\n",
       "      <td>Marketing</td>\n",
       "      <td>1</td>\n",
       "      <td>9920</td>\n",
       "      <td>...</td>\n",
       "      <td>4</td>\n",
       "      <td>80</td>\n",
       "      <td>2</td>\n",
       "      <td>23.0</td>\n",
       "      <td>1.0</td>\n",
       "      <td>3</td>\n",
       "      <td>5</td>\n",
       "      <td>5</td>\n",
       "      <td>5.0</td>\n",
       "      <td>4</td>\n",
       "    </tr>\n",
       "    <tr>\n",
       "      <th>10291</th>\n",
       "      <td>27.0</td>\n",
       "      <td>No</td>\n",
       "      <td>Travel_Rarely</td>\n",
       "      <td>649</td>\n",
       "      <td>Hardware</td>\n",
       "      <td>44</td>\n",
       "      <td>4</td>\n",
       "      <td>Human Resources</td>\n",
       "      <td>1</td>\n",
       "      <td>9908</td>\n",
       "      <td>...</td>\n",
       "      <td>3</td>\n",
       "      <td>80</td>\n",
       "      <td>1</td>\n",
       "      <td>20.0</td>\n",
       "      <td>6.0</td>\n",
       "      <td>2</td>\n",
       "      <td>3</td>\n",
       "      <td>3</td>\n",
       "      <td>1.0</td>\n",
       "      <td>3</td>\n",
       "    </tr>\n",
       "    <tr>\n",
       "      <th>10319</th>\n",
       "      <td>32.0</td>\n",
       "      <td>No</td>\n",
       "      <td>Non-Travel</td>\n",
       "      <td>145</td>\n",
       "      <td>Hardware</td>\n",
       "      <td>49</td>\n",
       "      <td>1</td>\n",
       "      <td>Other</td>\n",
       "      <td>1</td>\n",
       "      <td>9885</td>\n",
       "      <td>...</td>\n",
       "      <td>3</td>\n",
       "      <td>80</td>\n",
       "      <td>4</td>\n",
       "      <td>22.0</td>\n",
       "      <td>5.0</td>\n",
       "      <td>4</td>\n",
       "      <td>17</td>\n",
       "      <td>11</td>\n",
       "      <td>13.0</td>\n",
       "      <td>2</td>\n",
       "    </tr>\n",
       "  </tbody>\n",
       "</table>\n",
       "<p>298 rows × 35 columns</p>\n",
       "</div>"
      ]
     },
     "execution_count": 43,
     "metadata": {},
     "output_type": "execute_result"
    }
   ],
   "execution_count": 43
  },
  {
   "metadata": {
    "ExecuteTime": {
     "end_time": "2024-11-10T22:58:50.259068Z",
     "start_time": "2024-11-10T22:58:50.254259Z"
    }
   },
   "cell_type": "code",
   "source": [
    "#Drop Duplicate rows keeping the first instance of each row based on the column EmployeeNumber\n",
    "df = df.drop_duplicates(subset=['EmployeeNumber'], keep='first')"
   ],
   "id": "9fba6bc888995b14",
   "outputs": [],
   "execution_count": 44
  },
  {
   "metadata": {
    "ExecuteTime": {
     "end_time": "2024-11-10T22:58:55.099210Z",
     "start_time": "2024-11-10T22:58:55.096131Z"
    }
   },
   "cell_type": "code",
   "source": [
    "#Get new column count after dropping duplicates\n",
    "df.shape"
   ],
   "id": "469003c52b44c655",
   "outputs": [
    {
     "data": {
      "text/plain": [
       "(9999, 35)"
      ]
     },
     "execution_count": 45,
     "metadata": {},
     "output_type": "execute_result"
    }
   ],
   "execution_count": 45
  },
  {
   "metadata": {
    "ExecuteTime": {
     "end_time": "2024-11-10T22:59:29.975442Z",
     "start_time": "2024-11-10T22:59:29.967056Z"
    }
   },
   "cell_type": "code",
   "source": [
    "#Get a count of each column that has a null or missing value (only show columns with null greater than 0)\n",
    "df.isnull().sum()[df.isnull().sum() > 0]"
   ],
   "id": "4d9c720eab754884",
   "outputs": [
    {
     "data": {
      "text/plain": [
       "EducationField               1\n",
       "Gender                       3\n",
       "MonthlyIncome                1\n",
       "MonthlyRate                  2\n",
       "NumCompaniesWorked           1\n",
       "TotalWorkingYears            1\n",
       "TrainingTimesLastYear      410\n",
       "YearsSinceLastPromotion      2\n",
       "dtype: int64"
      ]
     },
     "execution_count": 46,
     "metadata": {},
     "output_type": "execute_result"
    }
   ],
   "execution_count": 46
  },
  {
   "metadata": {
    "ExecuteTime": {
     "end_time": "2024-11-10T22:59:57.853663Z",
     "start_time": "2024-11-10T22:59:57.848848Z"
    }
   },
   "cell_type": "code",
   "source": [
    "#fill in null values with (0.0) for numeric columns\n",
    "df.loc[:, 'TrainingTimesLastYear'] = df['TrainingTimesLastYear'].fillna(0.0)\n",
    "df.loc[:, 'NumCompaniesWorked'] = df['NumCompaniesWorked'].fillna(0.0)"
   ],
   "id": "5fb2ae7a79c368e4",
   "outputs": [],
   "execution_count": 47
  },
  {
   "metadata": {
    "ExecuteTime": {
     "end_time": "2024-11-10T23:00:19.380330Z",
     "start_time": "2024-11-10T23:00:19.375774Z"
    }
   },
   "cell_type": "code",
   "source": [
    "#fill in null values with 'Unknown' for object columns\n",
    "df.loc[:, 'EducationField'] = df['EducationField'].fillna('Unknown')\n",
    "df.loc[:, 'Gender'] = df['Gender'].fillna('Unknown')"
   ],
   "id": "81eaa3eee844be3b",
   "outputs": [],
   "execution_count": 48
  },
  {
   "metadata": {
    "ExecuteTime": {
     "end_time": "2024-11-10T23:00:58.492297Z",
     "start_time": "2024-11-10T23:00:58.485792Z"
    }
   },
   "cell_type": "code",
   "source": [
    "#Use the .interpolate method to fill in null values in meaningful numeric columns \n",
    "df.loc[:, 'MonthlyIncome'] = df['MonthlyIncome'].interpolate()\n",
    "df.loc[:, 'MonthlyRate'] = df['MonthlyRate'].interpolate()\n",
    "df.loc[:, 'TotalWorkingYears'] = df['TotalWorkingYears'].interpolate()\n",
    "df.loc[:, 'YearsSinceLastPromotion'] = df['YearsSinceLastPromotion'].interpolate()"
   ],
   "id": "56c9191f251f961c",
   "outputs": [],
   "execution_count": 49
  },
  {
   "metadata": {
    "ExecuteTime": {
     "end_time": "2024-11-10T23:01:03.919458Z",
     "start_time": "2024-11-10T23:01:03.910829Z"
    }
   },
   "cell_type": "code",
   "source": [
    "#Check to ensure null or missing values have been dealt with\n",
    "df.isnull().sum()[df.isnull().sum() > 0]"
   ],
   "id": "6fbd192a327f5030",
   "outputs": [
    {
     "data": {
      "text/plain": [
       "Series([], dtype: int64)"
      ]
     },
     "execution_count": 50,
     "metadata": {},
     "output_type": "execute_result"
    }
   ],
   "execution_count": 50
  },
  {
   "metadata": {
    "ExecuteTime": {
     "end_time": "2024-11-10T23:01:58.950878Z",
     "start_time": "2024-11-10T23:01:58.940282Z"
    }
   },
   "cell_type": "code",
   "source": [
    "#Identify Inconsistent Entries - Loop through each column and get every unique value \n",
    "inconsistent_entries = {}\n",
    "for column in df.select_dtypes(include=['object']).columns:\n",
    "    unique_values = df[column].unique()\n",
    "    inconsistent_entries[column] = df[column].unique()\n",
    "    print(f\"{column}: {(unique_values)}\")"
   ],
   "id": "76b36a00994a6ffc",
   "outputs": [
    {
     "name": "stdout",
     "output_type": "stream",
     "text": [
      "Turnover: ['Yes' 'No']\n",
      "BusinessTravel: ['Non-Travel' 'Travel_Frequently' 'Travel_Rarely' 1 -1 '00' ' ']\n",
      "Department: ['Hardware' 'Support' 'Software' 'Human Resources' 'Sales'\n",
      " 'Research & Development']\n",
      "EducationField: ['Technical Degree' 'Life Sciences' 'Human Resources' 'Other' 'Medical'\n",
      " 'Marketing' ' ' 'Unknown']\n",
      "Gender: ['Female' 'Male' 'Unknown']\n",
      "JobRole: ['Manufacturing Director' 'Research Director' 'Sales Representative'\n",
      " 'Developer' 'Laboratory Technician' 'Human Resources'\n",
      " 'Healthcare Representative' 'Research Scientist' 'Manager'\n",
      " 'Sales Executive' ' ']\n",
      "MaritalStatus: ['Married' 'Single' 'Divorced']\n",
      "Over18: ['Y']\n",
      "OverTime: ['Yes' 'No']\n",
      "YearsWithCurrManager: [11 4 2 1 7 3 8 12 6 16 9 5 27 13 21 22 18 29 15 14 10 19 20 23 24 17 30\n",
      " 28 31 26 34 25 36 32 37 33 'na' 38 35 -1000]\n"
     ]
    }
   ],
   "execution_count": 51
  },
  {
   "metadata": {
    "ExecuteTime": {
     "end_time": "2024-11-10T23:03:13.620953Z",
     "start_time": "2024-11-10T23:03:13.614698Z"
    }
   },
   "cell_type": "code",
   "source": [
    "#Use dictionary replace method to take Inconsistent Entries and replace with 'Unknown'\n",
    "df.loc[:, 'BusinessTravel'] = df['BusinessTravel'].replace({1: 'Unknown', -1: 'Unknown', '00': 'Unknown', ' ': 'Unknown'})\n",
    "df.loc[:, 'EducationField'] = df['EducationField'].replace({' ': 'Unknown'})\n",
    "df.loc[:, 'JobRole'] = df['JobRole'].replace({' ': 'Unknown'})"
   ],
   "id": "28c0ce9dc781b129",
   "outputs": [],
   "execution_count": 52
  },
  {
   "metadata": {
    "ExecuteTime": {
     "end_time": "2024-11-10T22:53:25.641751Z",
     "start_time": "2024-11-10T22:53:25.639689Z"
    }
   },
   "cell_type": "code",
   "source": "",
   "id": "81a9b7a167d80910",
   "outputs": [],
   "execution_count": null
  },
  {
   "metadata": {
    "ExecuteTime": {
     "end_time": "2024-11-10T23:04:09.073955Z",
     "start_time": "2024-11-10T23:04:09.069400Z"
    }
   },
   "cell_type": "code",
   "source": [
    "#Change column to a numeric datatype and changes any value that cant be converted to a numeric value to a NaN value\n",
    "df.loc[:, 'YearsWithCurrManager'] = pd.to_numeric(df['YearsWithCurrManager'], errors='coerce')"
   ],
   "id": "5f1e60dbddfbddb4",
   "outputs": [],
   "execution_count": 53
  },
  {
   "metadata": {
    "ExecuteTime": {
     "end_time": "2024-11-10T23:04:37.351805Z",
     "start_time": "2024-11-10T23:04:37.347806Z"
    }
   },
   "cell_type": "code",
   "source": [
    "#Change values less than 0 to be NaN\n",
    "df.loc[df['YearsWithCurrManager'] < 0, 'YearsWithCurrManager'] = np.nan"
   ],
   "id": "34738233bfd83161",
   "outputs": [],
   "execution_count": 54
  },
  {
   "metadata": {
    "ExecuteTime": {
     "end_time": "2024-11-10T23:04:49.844784Z",
     "start_time": "2024-11-10T23:04:49.840995Z"
    }
   },
   "cell_type": "code",
   "source": [
    "#Ensure the columns new datatype is set to Float\n",
    "df.loc[:, 'YearsWithCurrManager'] = df['YearsWithCurrManager'].astype(float)"
   ],
   "id": "38f9f7293f396a13",
   "outputs": [],
   "execution_count": 55
  },
  {
   "metadata": {
    "ExecuteTime": {
     "end_time": "2024-11-10T23:05:03.476640Z",
     "start_time": "2024-11-10T23:05:03.450814Z"
    }
   },
   "cell_type": "code",
   "source": [
    "#Use Describe to help identify outliers (Mostly looking at Min and Max values in each column)\n",
    "df.describe()"
   ],
   "id": "c58f61256329a79e",
   "outputs": [
    {
     "data": {
      "text/plain": [
       "               Age    DailyRate  DistanceFromHome    Education  EmployeeCount  \\\n",
       "count  9999.000000  9999.000000       9999.000000  9999.000000    9999.000000   \n",
       "mean     39.048105   806.611161         26.043504     2.973397       0.999800   \n",
       "std      12.554701   405.100129         53.088154     1.417566       0.034644   \n",
       "min      12.000000   100.000000          1.000000     1.000000      -1.000000   \n",
       "25%      28.000000   455.000000         13.000000     2.000000       1.000000   \n",
       "50%      39.000000   808.000000         25.000000     3.000000       1.000000   \n",
       "75%      50.000000  1160.000000         38.000000     4.000000       1.000000   \n",
       "max     148.000000  1500.000000       3737.000000     5.000000       3.000000   \n",
       "\n",
       "       EmployeeNumber  EnvironmentSatisfaction   HourlyRate  JobInvolvement  \\\n",
       "count     9999.000000              9999.000000  9999.000000     9999.000000   \n",
       "mean      5000.983598                 2.492149   114.760876        2.505151   \n",
       "std       2886.634951                 1.117570    49.514780        1.115705   \n",
       "min          1.000000                 1.000000    30.000000        1.000000   \n",
       "25%       2501.500000                 1.000000    72.000000        2.000000   \n",
       "50%       5001.000000                 2.000000   115.000000        3.000000   \n",
       "75%       7500.500000                 3.000000   158.000000        3.000000   \n",
       "max      10000.000000                 4.000000   200.000000        4.000000   \n",
       "\n",
       "          JobLevel  ...  PerformanceRating  RelationshipSatisfaction  \\\n",
       "count  9999.000000  ...        9999.000000               9999.000000   \n",
       "mean      3.007001  ...           2.501250                  2.490849   \n",
       "std       1.402193  ...           1.125267                  1.114603   \n",
       "min       1.000000  ...           1.000000                  1.000000   \n",
       "25%       2.000000  ...           1.000000                  1.500000   \n",
       "50%       3.000000  ...           3.000000                  2.000000   \n",
       "75%       4.000000  ...           4.000000                  3.000000   \n",
       "max       5.000000  ...           4.000000                  4.000000   \n",
       "\n",
       "       StandardHours  StockOptionLevel  TotalWorkingYears  \\\n",
       "count         9999.0       9999.000000        9999.000000   \n",
       "mean            80.0          2.497650          20.569457   \n",
       "std              0.0          1.117685          11.737883   \n",
       "min             80.0          1.000000          -1.000000   \n",
       "25%             80.0          2.000000          11.000000   \n",
       "50%             80.0          2.000000          21.000000   \n",
       "75%             80.0          4.000000          31.000000   \n",
       "max             80.0          4.000000         222.000000   \n",
       "\n",
       "       TrainingTimesLastYear  WorkLifeBalance  YearsAtCompany  \\\n",
       "count            9999.000000      9999.000000     9999.000000   \n",
       "mean                3.342834         2.488449       10.699770   \n",
       "std                 1.808793         1.117985        8.826067   \n",
       "min                 0.000000         1.000000        1.000000   \n",
       "25%                 2.000000         1.000000        3.000000   \n",
       "50%                 3.000000         2.000000        8.000000   \n",
       "75%                 5.000000         3.000000       16.000000   \n",
       "max                 6.000000         4.000000       40.000000   \n",
       "\n",
       "       YearsInCurrentRole  YearsSinceLastPromotion  \n",
       "count         9999.000000              9999.000000  \n",
       "mean             5.815382                 5.893789  \n",
       "std              5.908054                 6.026212  \n",
       "min              1.000000                 1.000000  \n",
       "25%              1.000000                 2.000000  \n",
       "50%              4.000000                 4.000000  \n",
       "75%              8.000000                 8.000000  \n",
       "max             39.000000                38.000000  \n",
       "\n",
       "[8 rows x 25 columns]"
      ],
      "text/html": [
       "<div>\n",
       "<style scoped>\n",
       "    .dataframe tbody tr th:only-of-type {\n",
       "        vertical-align: middle;\n",
       "    }\n",
       "\n",
       "    .dataframe tbody tr th {\n",
       "        vertical-align: top;\n",
       "    }\n",
       "\n",
       "    .dataframe thead th {\n",
       "        text-align: right;\n",
       "    }\n",
       "</style>\n",
       "<table border=\"1\" class=\"dataframe\">\n",
       "  <thead>\n",
       "    <tr style=\"text-align: right;\">\n",
       "      <th></th>\n",
       "      <th>Age</th>\n",
       "      <th>DailyRate</th>\n",
       "      <th>DistanceFromHome</th>\n",
       "      <th>Education</th>\n",
       "      <th>EmployeeCount</th>\n",
       "      <th>EmployeeNumber</th>\n",
       "      <th>EnvironmentSatisfaction</th>\n",
       "      <th>HourlyRate</th>\n",
       "      <th>JobInvolvement</th>\n",
       "      <th>JobLevel</th>\n",
       "      <th>...</th>\n",
       "      <th>PerformanceRating</th>\n",
       "      <th>RelationshipSatisfaction</th>\n",
       "      <th>StandardHours</th>\n",
       "      <th>StockOptionLevel</th>\n",
       "      <th>TotalWorkingYears</th>\n",
       "      <th>TrainingTimesLastYear</th>\n",
       "      <th>WorkLifeBalance</th>\n",
       "      <th>YearsAtCompany</th>\n",
       "      <th>YearsInCurrentRole</th>\n",
       "      <th>YearsSinceLastPromotion</th>\n",
       "    </tr>\n",
       "  </thead>\n",
       "  <tbody>\n",
       "    <tr>\n",
       "      <th>count</th>\n",
       "      <td>9999.000000</td>\n",
       "      <td>9999.000000</td>\n",
       "      <td>9999.000000</td>\n",
       "      <td>9999.000000</td>\n",
       "      <td>9999.000000</td>\n",
       "      <td>9999.000000</td>\n",
       "      <td>9999.000000</td>\n",
       "      <td>9999.000000</td>\n",
       "      <td>9999.000000</td>\n",
       "      <td>9999.000000</td>\n",
       "      <td>...</td>\n",
       "      <td>9999.000000</td>\n",
       "      <td>9999.000000</td>\n",
       "      <td>9999.0</td>\n",
       "      <td>9999.000000</td>\n",
       "      <td>9999.000000</td>\n",
       "      <td>9999.000000</td>\n",
       "      <td>9999.000000</td>\n",
       "      <td>9999.000000</td>\n",
       "      <td>9999.000000</td>\n",
       "      <td>9999.000000</td>\n",
       "    </tr>\n",
       "    <tr>\n",
       "      <th>mean</th>\n",
       "      <td>39.048105</td>\n",
       "      <td>806.611161</td>\n",
       "      <td>26.043504</td>\n",
       "      <td>2.973397</td>\n",
       "      <td>0.999800</td>\n",
       "      <td>5000.983598</td>\n",
       "      <td>2.492149</td>\n",
       "      <td>114.760876</td>\n",
       "      <td>2.505151</td>\n",
       "      <td>3.007001</td>\n",
       "      <td>...</td>\n",
       "      <td>2.501250</td>\n",
       "      <td>2.490849</td>\n",
       "      <td>80.0</td>\n",
       "      <td>2.497650</td>\n",
       "      <td>20.569457</td>\n",
       "      <td>3.342834</td>\n",
       "      <td>2.488449</td>\n",
       "      <td>10.699770</td>\n",
       "      <td>5.815382</td>\n",
       "      <td>5.893789</td>\n",
       "    </tr>\n",
       "    <tr>\n",
       "      <th>std</th>\n",
       "      <td>12.554701</td>\n",
       "      <td>405.100129</td>\n",
       "      <td>53.088154</td>\n",
       "      <td>1.417566</td>\n",
       "      <td>0.034644</td>\n",
       "      <td>2886.634951</td>\n",
       "      <td>1.117570</td>\n",
       "      <td>49.514780</td>\n",
       "      <td>1.115705</td>\n",
       "      <td>1.402193</td>\n",
       "      <td>...</td>\n",
       "      <td>1.125267</td>\n",
       "      <td>1.114603</td>\n",
       "      <td>0.0</td>\n",
       "      <td>1.117685</td>\n",
       "      <td>11.737883</td>\n",
       "      <td>1.808793</td>\n",
       "      <td>1.117985</td>\n",
       "      <td>8.826067</td>\n",
       "      <td>5.908054</td>\n",
       "      <td>6.026212</td>\n",
       "    </tr>\n",
       "    <tr>\n",
       "      <th>min</th>\n",
       "      <td>12.000000</td>\n",
       "      <td>100.000000</td>\n",
       "      <td>1.000000</td>\n",
       "      <td>1.000000</td>\n",
       "      <td>-1.000000</td>\n",
       "      <td>1.000000</td>\n",
       "      <td>1.000000</td>\n",
       "      <td>30.000000</td>\n",
       "      <td>1.000000</td>\n",
       "      <td>1.000000</td>\n",
       "      <td>...</td>\n",
       "      <td>1.000000</td>\n",
       "      <td>1.000000</td>\n",
       "      <td>80.0</td>\n",
       "      <td>1.000000</td>\n",
       "      <td>-1.000000</td>\n",
       "      <td>0.000000</td>\n",
       "      <td>1.000000</td>\n",
       "      <td>1.000000</td>\n",
       "      <td>1.000000</td>\n",
       "      <td>1.000000</td>\n",
       "    </tr>\n",
       "    <tr>\n",
       "      <th>25%</th>\n",
       "      <td>28.000000</td>\n",
       "      <td>455.000000</td>\n",
       "      <td>13.000000</td>\n",
       "      <td>2.000000</td>\n",
       "      <td>1.000000</td>\n",
       "      <td>2501.500000</td>\n",
       "      <td>1.000000</td>\n",
       "      <td>72.000000</td>\n",
       "      <td>2.000000</td>\n",
       "      <td>2.000000</td>\n",
       "      <td>...</td>\n",
       "      <td>1.000000</td>\n",
       "      <td>1.500000</td>\n",
       "      <td>80.0</td>\n",
       "      <td>2.000000</td>\n",
       "      <td>11.000000</td>\n",
       "      <td>2.000000</td>\n",
       "      <td>1.000000</td>\n",
       "      <td>3.000000</td>\n",
       "      <td>1.000000</td>\n",
       "      <td>2.000000</td>\n",
       "    </tr>\n",
       "    <tr>\n",
       "      <th>50%</th>\n",
       "      <td>39.000000</td>\n",
       "      <td>808.000000</td>\n",
       "      <td>25.000000</td>\n",
       "      <td>3.000000</td>\n",
       "      <td>1.000000</td>\n",
       "      <td>5001.000000</td>\n",
       "      <td>2.000000</td>\n",
       "      <td>115.000000</td>\n",
       "      <td>3.000000</td>\n",
       "      <td>3.000000</td>\n",
       "      <td>...</td>\n",
       "      <td>3.000000</td>\n",
       "      <td>2.000000</td>\n",
       "      <td>80.0</td>\n",
       "      <td>2.000000</td>\n",
       "      <td>21.000000</td>\n",
       "      <td>3.000000</td>\n",
       "      <td>2.000000</td>\n",
       "      <td>8.000000</td>\n",
       "      <td>4.000000</td>\n",
       "      <td>4.000000</td>\n",
       "    </tr>\n",
       "    <tr>\n",
       "      <th>75%</th>\n",
       "      <td>50.000000</td>\n",
       "      <td>1160.000000</td>\n",
       "      <td>38.000000</td>\n",
       "      <td>4.000000</td>\n",
       "      <td>1.000000</td>\n",
       "      <td>7500.500000</td>\n",
       "      <td>3.000000</td>\n",
       "      <td>158.000000</td>\n",
       "      <td>3.000000</td>\n",
       "      <td>4.000000</td>\n",
       "      <td>...</td>\n",
       "      <td>4.000000</td>\n",
       "      <td>3.000000</td>\n",
       "      <td>80.0</td>\n",
       "      <td>4.000000</td>\n",
       "      <td>31.000000</td>\n",
       "      <td>5.000000</td>\n",
       "      <td>3.000000</td>\n",
       "      <td>16.000000</td>\n",
       "      <td>8.000000</td>\n",
       "      <td>8.000000</td>\n",
       "    </tr>\n",
       "    <tr>\n",
       "      <th>max</th>\n",
       "      <td>148.000000</td>\n",
       "      <td>1500.000000</td>\n",
       "      <td>3737.000000</td>\n",
       "      <td>5.000000</td>\n",
       "      <td>3.000000</td>\n",
       "      <td>10000.000000</td>\n",
       "      <td>4.000000</td>\n",
       "      <td>200.000000</td>\n",
       "      <td>4.000000</td>\n",
       "      <td>5.000000</td>\n",
       "      <td>...</td>\n",
       "      <td>4.000000</td>\n",
       "      <td>4.000000</td>\n",
       "      <td>80.0</td>\n",
       "      <td>4.000000</td>\n",
       "      <td>222.000000</td>\n",
       "      <td>6.000000</td>\n",
       "      <td>4.000000</td>\n",
       "      <td>40.000000</td>\n",
       "      <td>39.000000</td>\n",
       "      <td>38.000000</td>\n",
       "    </tr>\n",
       "  </tbody>\n",
       "</table>\n",
       "<p>8 rows × 25 columns</p>\n",
       "</div>"
      ]
     },
     "execution_count": 56,
     "metadata": {},
     "output_type": "execute_result"
    }
   ],
   "execution_count": 56
  },
  {
   "metadata": {
    "ExecuteTime": {
     "end_time": "2024-11-10T23:05:45.424923Z",
     "start_time": "2024-11-10T23:05:45.421556Z"
    }
   },
   "cell_type": "code",
   "source": [
    "#Fix the outliers in 'Age' with capping at 18 and 100 \n",
    "df.loc[df['Age'] < 18, 'Age'] = 18\n",
    "df.loc[df['Age'] > 100, 'Age'] = 100"
   ],
   "id": "a62b8aa9c659f0db",
   "outputs": [],
   "execution_count": 57
  },
  {
   "metadata": {
    "ExecuteTime": {
     "end_time": "2024-11-10T23:06:03.452099Z",
     "start_time": "2024-11-10T23:06:03.448594Z"
    }
   },
   "cell_type": "code",
   "source": [
    "#Employee Count should only be 1. This fix is to correct the -1s in the data\n",
    "df.loc[df['EmployeeCount'] < 0, 'EmployeeCount'] = 1"
   ],
   "id": "139d51af2a4cbf7e",
   "outputs": [],
   "execution_count": 58
  },
  {
   "metadata": {
    "ExecuteTime": {
     "end_time": "2024-11-10T23:06:23.730607Z",
     "start_time": "2024-11-10T23:06:23.726858Z"
    }
   },
   "cell_type": "code",
   "source": [
    "#Monthly income has a negative value. To fix by applying abs() to the value\n",
    "df.loc[:,'MonthlyIncome'] = df['MonthlyIncome'].abs()"
   ],
   "id": "617f18de03c1a61c",
   "outputs": [],
   "execution_count": 59
  },
  {
   "metadata": {
    "ExecuteTime": {
     "end_time": "2024-11-10T23:06:42.863717Z",
     "start_time": "2024-11-10T23:06:42.860020Z"
    }
   },
   "cell_type": "code",
   "source": [
    "#TotalWorkingYears has a -1 for the min. Fix will be to assign -1 to 1\n",
    "df.loc[df['TotalWorkingYears'] < 0, 'TotalWorkingYears'] = 1"
   ],
   "id": "b2ee0346a001a828",
   "outputs": [],
   "execution_count": 61
  },
  {
   "metadata": {
    "ExecuteTime": {
     "end_time": "2024-11-10T23:06:48.489577Z",
     "start_time": "2024-11-10T23:06:48.461838Z"
    }
   },
   "cell_type": "code",
   "source": [
    "#Ensure outliers have been dealt with\n",
    "df.describe()"
   ],
   "id": "ec9f4ccc2ef53f0d",
   "outputs": [
    {
     "data": {
      "text/plain": [
       "               Age    DailyRate  DistanceFromHome    Education  EmployeeCount  \\\n",
       "count  9999.000000  9999.000000       9999.000000  9999.000000    9999.000000   \n",
       "mean     39.044204   806.611161         26.043504     2.973397       1.000200   \n",
       "std      12.520479   405.100129         53.088154     1.417566       0.020001   \n",
       "min      18.000000   100.000000          1.000000     1.000000       1.000000   \n",
       "25%      28.000000   455.000000         13.000000     2.000000       1.000000   \n",
       "50%      39.000000   808.000000         25.000000     3.000000       1.000000   \n",
       "75%      50.000000  1160.000000         38.000000     4.000000       1.000000   \n",
       "max     100.000000  1500.000000       3737.000000     5.000000       3.000000   \n",
       "\n",
       "       EmployeeNumber  EnvironmentSatisfaction   HourlyRate  JobInvolvement  \\\n",
       "count     9999.000000              9999.000000  9999.000000     9999.000000   \n",
       "mean      5000.983598                 2.492149   114.760876        2.505151   \n",
       "std       2886.634951                 1.117570    49.514780        1.115705   \n",
       "min          1.000000                 1.000000    30.000000        1.000000   \n",
       "25%       2501.500000                 1.000000    72.000000        2.000000   \n",
       "50%       5001.000000                 2.000000   115.000000        3.000000   \n",
       "75%       7500.500000                 3.000000   158.000000        3.000000   \n",
       "max      10000.000000                 4.000000   200.000000        4.000000   \n",
       "\n",
       "          JobLevel  ...  PerformanceRating  RelationshipSatisfaction  \\\n",
       "count  9999.000000  ...        9999.000000               9999.000000   \n",
       "mean      3.007001  ...           2.501250                  2.490849   \n",
       "std       1.402193  ...           1.125267                  1.114603   \n",
       "min       1.000000  ...           1.000000                  1.000000   \n",
       "25%       2.000000  ...           1.000000                  1.500000   \n",
       "50%       3.000000  ...           3.000000                  2.000000   \n",
       "75%       4.000000  ...           4.000000                  3.000000   \n",
       "max       5.000000  ...           4.000000                  4.000000   \n",
       "\n",
       "       StandardHours  StockOptionLevel  TotalWorkingYears  \\\n",
       "count         9999.0       9999.000000        9999.000000   \n",
       "mean            80.0          2.497650          20.569657   \n",
       "std              0.0          1.117685          11.737533   \n",
       "min             80.0          1.000000           1.000000   \n",
       "25%             80.0          2.000000          11.000000   \n",
       "50%             80.0          2.000000          21.000000   \n",
       "75%             80.0          4.000000          31.000000   \n",
       "max             80.0          4.000000         222.000000   \n",
       "\n",
       "       TrainingTimesLastYear  WorkLifeBalance  YearsAtCompany  \\\n",
       "count            9999.000000      9999.000000     9999.000000   \n",
       "mean                3.342834         2.488449       10.699770   \n",
       "std                 1.808793         1.117985        8.826067   \n",
       "min                 0.000000         1.000000        1.000000   \n",
       "25%                 2.000000         1.000000        3.000000   \n",
       "50%                 3.000000         2.000000        8.000000   \n",
       "75%                 5.000000         3.000000       16.000000   \n",
       "max                 6.000000         4.000000       40.000000   \n",
       "\n",
       "       YearsInCurrentRole  YearsSinceLastPromotion  \n",
       "count         9999.000000              9999.000000  \n",
       "mean             5.815382                 5.893789  \n",
       "std              5.908054                 6.026212  \n",
       "min              1.000000                 1.000000  \n",
       "25%              1.000000                 2.000000  \n",
       "50%              4.000000                 4.000000  \n",
       "75%              8.000000                 8.000000  \n",
       "max             39.000000                38.000000  \n",
       "\n",
       "[8 rows x 25 columns]"
      ],
      "text/html": [
       "<div>\n",
       "<style scoped>\n",
       "    .dataframe tbody tr th:only-of-type {\n",
       "        vertical-align: middle;\n",
       "    }\n",
       "\n",
       "    .dataframe tbody tr th {\n",
       "        vertical-align: top;\n",
       "    }\n",
       "\n",
       "    .dataframe thead th {\n",
       "        text-align: right;\n",
       "    }\n",
       "</style>\n",
       "<table border=\"1\" class=\"dataframe\">\n",
       "  <thead>\n",
       "    <tr style=\"text-align: right;\">\n",
       "      <th></th>\n",
       "      <th>Age</th>\n",
       "      <th>DailyRate</th>\n",
       "      <th>DistanceFromHome</th>\n",
       "      <th>Education</th>\n",
       "      <th>EmployeeCount</th>\n",
       "      <th>EmployeeNumber</th>\n",
       "      <th>EnvironmentSatisfaction</th>\n",
       "      <th>HourlyRate</th>\n",
       "      <th>JobInvolvement</th>\n",
       "      <th>JobLevel</th>\n",
       "      <th>...</th>\n",
       "      <th>PerformanceRating</th>\n",
       "      <th>RelationshipSatisfaction</th>\n",
       "      <th>StandardHours</th>\n",
       "      <th>StockOptionLevel</th>\n",
       "      <th>TotalWorkingYears</th>\n",
       "      <th>TrainingTimesLastYear</th>\n",
       "      <th>WorkLifeBalance</th>\n",
       "      <th>YearsAtCompany</th>\n",
       "      <th>YearsInCurrentRole</th>\n",
       "      <th>YearsSinceLastPromotion</th>\n",
       "    </tr>\n",
       "  </thead>\n",
       "  <tbody>\n",
       "    <tr>\n",
       "      <th>count</th>\n",
       "      <td>9999.000000</td>\n",
       "      <td>9999.000000</td>\n",
       "      <td>9999.000000</td>\n",
       "      <td>9999.000000</td>\n",
       "      <td>9999.000000</td>\n",
       "      <td>9999.000000</td>\n",
       "      <td>9999.000000</td>\n",
       "      <td>9999.000000</td>\n",
       "      <td>9999.000000</td>\n",
       "      <td>9999.000000</td>\n",
       "      <td>...</td>\n",
       "      <td>9999.000000</td>\n",
       "      <td>9999.000000</td>\n",
       "      <td>9999.0</td>\n",
       "      <td>9999.000000</td>\n",
       "      <td>9999.000000</td>\n",
       "      <td>9999.000000</td>\n",
       "      <td>9999.000000</td>\n",
       "      <td>9999.000000</td>\n",
       "      <td>9999.000000</td>\n",
       "      <td>9999.000000</td>\n",
       "    </tr>\n",
       "    <tr>\n",
       "      <th>mean</th>\n",
       "      <td>39.044204</td>\n",
       "      <td>806.611161</td>\n",
       "      <td>26.043504</td>\n",
       "      <td>2.973397</td>\n",
       "      <td>1.000200</td>\n",
       "      <td>5000.983598</td>\n",
       "      <td>2.492149</td>\n",
       "      <td>114.760876</td>\n",
       "      <td>2.505151</td>\n",
       "      <td>3.007001</td>\n",
       "      <td>...</td>\n",
       "      <td>2.501250</td>\n",
       "      <td>2.490849</td>\n",
       "      <td>80.0</td>\n",
       "      <td>2.497650</td>\n",
       "      <td>20.569657</td>\n",
       "      <td>3.342834</td>\n",
       "      <td>2.488449</td>\n",
       "      <td>10.699770</td>\n",
       "      <td>5.815382</td>\n",
       "      <td>5.893789</td>\n",
       "    </tr>\n",
       "    <tr>\n",
       "      <th>std</th>\n",
       "      <td>12.520479</td>\n",
       "      <td>405.100129</td>\n",
       "      <td>53.088154</td>\n",
       "      <td>1.417566</td>\n",
       "      <td>0.020001</td>\n",
       "      <td>2886.634951</td>\n",
       "      <td>1.117570</td>\n",
       "      <td>49.514780</td>\n",
       "      <td>1.115705</td>\n",
       "      <td>1.402193</td>\n",
       "      <td>...</td>\n",
       "      <td>1.125267</td>\n",
       "      <td>1.114603</td>\n",
       "      <td>0.0</td>\n",
       "      <td>1.117685</td>\n",
       "      <td>11.737533</td>\n",
       "      <td>1.808793</td>\n",
       "      <td>1.117985</td>\n",
       "      <td>8.826067</td>\n",
       "      <td>5.908054</td>\n",
       "      <td>6.026212</td>\n",
       "    </tr>\n",
       "    <tr>\n",
       "      <th>min</th>\n",
       "      <td>18.000000</td>\n",
       "      <td>100.000000</td>\n",
       "      <td>1.000000</td>\n",
       "      <td>1.000000</td>\n",
       "      <td>1.000000</td>\n",
       "      <td>1.000000</td>\n",
       "      <td>1.000000</td>\n",
       "      <td>30.000000</td>\n",
       "      <td>1.000000</td>\n",
       "      <td>1.000000</td>\n",
       "      <td>...</td>\n",
       "      <td>1.000000</td>\n",
       "      <td>1.000000</td>\n",
       "      <td>80.0</td>\n",
       "      <td>1.000000</td>\n",
       "      <td>1.000000</td>\n",
       "      <td>0.000000</td>\n",
       "      <td>1.000000</td>\n",
       "      <td>1.000000</td>\n",
       "      <td>1.000000</td>\n",
       "      <td>1.000000</td>\n",
       "    </tr>\n",
       "    <tr>\n",
       "      <th>25%</th>\n",
       "      <td>28.000000</td>\n",
       "      <td>455.000000</td>\n",
       "      <td>13.000000</td>\n",
       "      <td>2.000000</td>\n",
       "      <td>1.000000</td>\n",
       "      <td>2501.500000</td>\n",
       "      <td>1.000000</td>\n",
       "      <td>72.000000</td>\n",
       "      <td>2.000000</td>\n",
       "      <td>2.000000</td>\n",
       "      <td>...</td>\n",
       "      <td>1.000000</td>\n",
       "      <td>1.500000</td>\n",
       "      <td>80.0</td>\n",
       "      <td>2.000000</td>\n",
       "      <td>11.000000</td>\n",
       "      <td>2.000000</td>\n",
       "      <td>1.000000</td>\n",
       "      <td>3.000000</td>\n",
       "      <td>1.000000</td>\n",
       "      <td>2.000000</td>\n",
       "    </tr>\n",
       "    <tr>\n",
       "      <th>50%</th>\n",
       "      <td>39.000000</td>\n",
       "      <td>808.000000</td>\n",
       "      <td>25.000000</td>\n",
       "      <td>3.000000</td>\n",
       "      <td>1.000000</td>\n",
       "      <td>5001.000000</td>\n",
       "      <td>2.000000</td>\n",
       "      <td>115.000000</td>\n",
       "      <td>3.000000</td>\n",
       "      <td>3.000000</td>\n",
       "      <td>...</td>\n",
       "      <td>3.000000</td>\n",
       "      <td>2.000000</td>\n",
       "      <td>80.0</td>\n",
       "      <td>2.000000</td>\n",
       "      <td>21.000000</td>\n",
       "      <td>3.000000</td>\n",
       "      <td>2.000000</td>\n",
       "      <td>8.000000</td>\n",
       "      <td>4.000000</td>\n",
       "      <td>4.000000</td>\n",
       "    </tr>\n",
       "    <tr>\n",
       "      <th>75%</th>\n",
       "      <td>50.000000</td>\n",
       "      <td>1160.000000</td>\n",
       "      <td>38.000000</td>\n",
       "      <td>4.000000</td>\n",
       "      <td>1.000000</td>\n",
       "      <td>7500.500000</td>\n",
       "      <td>3.000000</td>\n",
       "      <td>158.000000</td>\n",
       "      <td>3.000000</td>\n",
       "      <td>4.000000</td>\n",
       "      <td>...</td>\n",
       "      <td>4.000000</td>\n",
       "      <td>3.000000</td>\n",
       "      <td>80.0</td>\n",
       "      <td>4.000000</td>\n",
       "      <td>31.000000</td>\n",
       "      <td>5.000000</td>\n",
       "      <td>3.000000</td>\n",
       "      <td>16.000000</td>\n",
       "      <td>8.000000</td>\n",
       "      <td>8.000000</td>\n",
       "    </tr>\n",
       "    <tr>\n",
       "      <th>max</th>\n",
       "      <td>100.000000</td>\n",
       "      <td>1500.000000</td>\n",
       "      <td>3737.000000</td>\n",
       "      <td>5.000000</td>\n",
       "      <td>3.000000</td>\n",
       "      <td>10000.000000</td>\n",
       "      <td>4.000000</td>\n",
       "      <td>200.000000</td>\n",
       "      <td>4.000000</td>\n",
       "      <td>5.000000</td>\n",
       "      <td>...</td>\n",
       "      <td>4.000000</td>\n",
       "      <td>4.000000</td>\n",
       "      <td>80.0</td>\n",
       "      <td>4.000000</td>\n",
       "      <td>222.000000</td>\n",
       "      <td>6.000000</td>\n",
       "      <td>4.000000</td>\n",
       "      <td>40.000000</td>\n",
       "      <td>39.000000</td>\n",
       "      <td>38.000000</td>\n",
       "    </tr>\n",
       "  </tbody>\n",
       "</table>\n",
       "<p>8 rows × 25 columns</p>\n",
       "</div>"
      ]
     },
     "execution_count": 62,
     "metadata": {},
     "output_type": "execute_result"
    }
   ],
   "execution_count": 62
  },
  {
   "metadata": {
    "ExecuteTime": {
     "end_time": "2024-11-10T23:07:26.353238Z",
     "start_time": "2024-11-10T23:07:26.350068Z"
    }
   },
   "cell_type": "code",
   "source": [
    "#Check the max value of Column with extreme outlier\n",
    "df['MonthlyRate'].max()"
   ],
   "id": "4f5106df15079f96",
   "outputs": [
    {
     "data": {
      "text/plain": [
       "np.float64(872214872214.0)"
      ]
     },
     "execution_count": 63,
     "metadata": {},
     "output_type": "execute_result"
    }
   ],
   "execution_count": 63
  },
  {
   "metadata": {
    "ExecuteTime": {
     "end_time": "2024-11-10T23:08:07.873431Z",
     "start_time": "2024-11-10T23:08:07.868887Z"
    }
   },
   "cell_type": "code",
   "source": [
    "#Identify all values that are extreme outliers in this column\n",
    "unique_values = df['MonthlyRate'].unique()\n",
    "for num in unique_values:\n",
    "    if num > 2000000:\n",
    "        print(num)"
   ],
   "id": "c4381a6ed4854807",
   "outputs": [
    {
     "name": "stdout",
     "output_type": "stream",
     "text": [
      "872214872214.0\n",
      "877411155.0\n"
     ]
    }
   ],
   "execution_count": 65
  },
  {
   "metadata": {
    "ExecuteTime": {
     "end_time": "2024-11-10T23:08:28.958406Z",
     "start_time": "2024-11-10T23:08:28.956188Z"
    }
   },
   "cell_type": "code",
   "source": [
    "#Create a variable containing the known outliers\n",
    "outlier_values = [872214872214.0, 877411155.0]"
   ],
   "id": "170088888b7807da",
   "outputs": [],
   "execution_count": 66
  },
  {
   "metadata": {
    "ExecuteTime": {
     "end_time": "2024-11-10T23:08:45.707903Z",
     "start_time": "2024-11-10T23:08:45.701994Z"
    }
   },
   "cell_type": "code",
   "source": [
    "#Find the mean of the all the rows not including the outliers\n",
    "mean_value = df[df['MonthlyRate'].isin(outlier_values) == False]['MonthlyRate'].mean()"
   ],
   "id": "8655cf76935756d1",
   "outputs": [],
   "execution_count": 67
  },
  {
   "metadata": {
    "ExecuteTime": {
     "end_time": "2024-11-10T23:08:58.151910Z",
     "start_time": "2024-11-10T23:08:58.147401Z"
    }
   },
   "cell_type": "code",
   "source": [
    "#Set the two rows with outliers to the calculated mean value\n",
    "df.loc[df['MonthlyRate'].isin(outlier_values), 'MonthlyRate'] = mean_value"
   ],
   "id": "3c7aed4236c24494",
   "outputs": [],
   "execution_count": 68
  },
  {
   "metadata": {
    "ExecuteTime": {
     "end_time": "2024-11-10T23:09:03.099111Z",
     "start_time": "2024-11-10T23:09:03.095139Z"
    }
   },
   "cell_type": "code",
   "source": [
    "#Check the new max value for Outlier Column\n",
    "df['MonthlyRate'].max()"
   ],
   "id": "50f1d71bf83f7473",
   "outputs": [
    {
     "data": {
      "text/plain": [
       "np.float64(1523280.0)"
      ]
     },
     "execution_count": 69,
     "metadata": {},
     "output_type": "execute_result"
    }
   ],
   "execution_count": 69
  },
  {
   "metadata": {
    "ExecuteTime": {
     "end_time": "2024-11-10T23:09:27.525648Z",
     "start_time": "2024-11-10T23:09:23.772559Z"
    }
   },
   "cell_type": "code",
   "source": [
    "#Save updated dataset to a new Excel file\n",
    "df.to_excel('Updated_EmpTurnoverDS2.xlsx', index=False)"
   ],
   "id": "dd9d3c91ea2d2c29",
   "outputs": [],
   "execution_count": 70
  },
  {
   "metadata": {
    "ExecuteTime": {
     "end_time": "2024-11-10T22:53:25.814779Z",
     "start_time": "2024-11-10T22:53:25.813151Z"
    }
   },
   "cell_type": "code",
   "source": "#https://wgu.hosted.panopto.com/Panopto/Pages/Viewer.aspx?id=e0389bf2-bff1-4184-8e7b-b2240179e59a",
   "id": "d2880bdc303dc2ce",
   "outputs": [],
   "execution_count": null
  }
 ],
 "metadata": {
  "kernelspec": {
   "display_name": "Python 3",
   "language": "python",
   "name": "python3"
  },
  "language_info": {
   "codemirror_mode": {
    "name": "ipython",
    "version": 2
   },
   "file_extension": ".py",
   "mimetype": "text/x-python",
   "name": "python",
   "nbconvert_exporter": "python",
   "pygments_lexer": "ipython2",
   "version": "2.7.6"
  }
 },
 "nbformat": 4,
 "nbformat_minor": 5
}
